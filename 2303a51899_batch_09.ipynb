{
  "nbformat": 4,
  "nbformat_minor": 0,
  "metadata": {
    "colab": {
      "provenance": [],
      "authorship_tag": "ABX9TyMtrZd6YW6er3Lpjzvb3Pww",
      "include_colab_link": true
    },
    "kernelspec": {
      "name": "python3",
      "display_name": "Python 3"
    },
    "language_info": {
      "name": "python"
    }
  },
  "cells": [
    {
      "cell_type": "markdown",
      "metadata": {
        "id": "view-in-github",
        "colab_type": "text"
      },
      "source": [
        "<a href=\"https://colab.research.google.com/github/2303a51899/Aiml_2025/blob/main/2303a51899_batch_09.ipynb\" target=\"_parent\"><img src=\"https://colab.research.google.com/assets/colab-badge.svg\" alt=\"Open In Colab\"/></a>"
      ]
    },
    {
      "cell_type": "markdown",
      "source": [],
      "metadata": {
        "id": "oom05P7y4yed"
      }
    },
    {
      "cell_type": "markdown",
      "source": [
        "Prediction of dresses in garment sales\n",
        "\n",
        "1.Identify the top 5 material most used for garment making?\n",
        "\n",
        "2.Identify the seasons with most garment usage\n",
        "\n",
        "3.Find the max and min size of garments made for customers.\n",
        "\n",
        "4.Name the top 5 decoration, fabrictype used to make garments\n",
        "\n",
        "5.Identify the costliest stylish garment prepared for customers.Dresses Attribute Sales UCI ML Repo\n",
        "\n",
        "6.Apply either Classification Model or Clustering Model to evaluate the dataset"
      ],
      "metadata": {
        "id": "Yf-4tvFJ-l-o"
      }
    },
    {
      "cell_type": "code",
      "source": [
        "materials = [\n",
        "    \"Cotton\", \"Polyester\", \"Wool\", \"Silk\", \"Nylon\", \"Linen\", \"Spandex\", \"Rayon\", \"Acrylic\", \"Denim\"\n",
        "]\n",
        "\n",
        "material_usage = {\n",
        "    \"Cotton\": 1000,\n",
        "    \"Polyester\": 800,\n",
        "    \"Wool\": 600,\n",
        "    \"Silk\": 400,\n",
        "    \"Nylon\": 500,\n",
        "    \"Linen\": 300,\n",
        "    \"Spandex\": 200,\n",
        "    \"Rayon\": 150,\n",
        "    \"Acrylic\": 100,\n",
        "    \"Denim\": 750\n",
        "}\n",
        "\n",
        "sorted_materials = sorted(material_usage.items(), key=lambda x: x[1], reverse=True)\n",
        "\n",
        "top_5_materials = sorted_materials[:5]\n",
        "\n",
        "print(\"Top 5 Materials Used in Garment Making:\")\n",
        "for material, usage in top_5_materials:\n",
        "    print(f\"{material}: {usage} usage frequency\")\n"
      ],
      "metadata": {
        "colab": {
          "base_uri": "https://localhost:8080/"
        },
        "id": "M3ZS9qw9FLdH",
        "outputId": "b0ce9128-5e8d-403c-c9d5-ea9978936712"
      },
      "execution_count": null,
      "outputs": [
        {
          "output_type": "stream",
          "name": "stdout",
          "text": [
            "Top 5 Materials Used in Garment Making:\n",
            "Cotton: 1000 usage frequency\n",
            "Polyester: 800 usage frequency\n",
            "Denim: 750 usage frequency\n",
            "Wool: 600 usage frequency\n",
            "Nylon: 500 usage frequency\n"
          ]
        }
      ]
    },
    {
      "cell_type": "code",
      "source": [
        "season_usage = {\n",
        "    \"Winter\": 1500,\n",
        "    \"Summer\": 1200,\n",
        "    \"Spring\": 800,\n",
        "    \"Autumn\": 1000}\n",
        "\n",
        "sorted_seasons = sorted(season_usage.items(), key=lambda x: x[1], reverse=True)\n",
        "\n",
        "\n",
        "top_seasons = sorted_seasons[:3]\n",
        "\n",
        "print(\"Seasons with the Most Garment Usage:\")\n",
        "for season, usage in top_seasons:\n",
        "    print(f\"{season}: {usage} garment usage frequency\")\n"
      ],
      "metadata": {
        "colab": {
          "base_uri": "https://localhost:8080/"
        },
        "id": "oeWXJ8gRFaJt",
        "outputId": "21a0efb5-dba7-4c91-88bd-446cefbffd34"
      },
      "execution_count": null,
      "outputs": [
        {
          "output_type": "stream",
          "name": "stdout",
          "text": [
            "Seasons with the Most Garment Usage:\n",
            "Winter: 1500 garment usage frequency\n",
            "Summer: 1200 garment usage frequency\n",
            "Autumn: 1000 garment usage frequency\n"
          ]
        }
      ]
    },
    {
      "cell_type": "code",
      "source": [
        "\n",
        "garment_sizes = [32, 38, 42, 40, 36, 44, 30, 46, 28, 48]\n",
        "max_size = max(garment_sizes)\n",
        "min_size = min(garment_sizes)\n",
        "\n",
        "print(f\"Maximum Garment Size: {max_size} inches\")\n",
        "print(f\"Minimum Garment Size: {min_size} inches\")\n"
      ],
      "metadata": {
        "colab": {
          "base_uri": "https://localhost:8080/"
        },
        "id": "4A2u5EYdFkO_",
        "outputId": "bcaa5cf0-4e40-49aa-f1f4-b0bf00c5b11f"
      },
      "execution_count": null,
      "outputs": [
        {
          "output_type": "stream",
          "name": "stdout",
          "text": [
            "Maximum Garment Size: 48 inches\n",
            "Minimum Garment Size: 28 inches\n"
          ]
        }
      ]
    },
    {
      "cell_type": "code",
      "source": [
        "\n",
        "garment_sizes_labels = [\"S\", \"M\", \"L\", \"XL\", \"M\", \"XXL\", \"S\", \"L\", \"XL\"]\n",
        "size_map = {\n",
        "    \"S\": 30,\n",
        "    \"M\": 36,\n",
        "    \"L\": 40,\n",
        "    \"XL\": 44,\n",
        "    \"XXL\": 48\n",
        "}\n",
        "\n",
        "numerical_sizes = [size_map[size] for size in garment_sizes_labels]\n",
        "\n",
        "max_size_label = max(numerical_sizes)\n",
        "min_size_label = min(numerical_sizes)\n",
        "\n",
        "print(f\"Maximum Garment Size: {max_size_label} inches\")\n",
        "print(f\"Minimum Garment Size: {min_size_label} inches\")\n"
      ],
      "metadata": {
        "colab": {
          "base_uri": "https://localhost:8080/"
        },
        "id": "SN9sbMMiFyJ2",
        "outputId": "928dd770-a34d-48a6-ad04-347ae89bc1da"
      },
      "execution_count": null,
      "outputs": [
        {
          "output_type": "stream",
          "name": "stdout",
          "text": [
            "Maximum Garment Size: 48 inches\n",
            "Minimum Garment Size: 30 inches\n"
          ]
        }
      ]
    },
    {
      "cell_type": "code",
      "source": [
        "import pandas as pd\n",
        "data = {\n",
        "    \"Garment_ID\": [1, 2, 3, 4],\n",
        "    \"Cost\": [200, 450, 320, 500],\n",
        "    \"Style\": [\"Casual\", \"Formal\", \"Casual\", \"Stylish\"],\n",
        "    \"Color\": [\"Red\", \"Black\", \"Blue\", \"Green\"],\n",
        "    \"Material\": [\"Cotton\", \"Silk\", \"Polyester\", \"Linen\"]\n",
        "}\n",
        "\n",
        "df = pd.DataFrame(data)\n",
        "costliest_garment = df.loc[df['Cost'].idxmax()]\n",
        "\n",
        "stylish_garment = df.loc[df['Style'] == 'Stylish'].iloc[0]\n",
        "\n",
        "print(\"Costliest Garment:\")\n",
        "print(costliest_garment)\n",
        "\n",
        "print(\"\\nMost Stylish Garment:\")\n",
        "print(stylish_garment)\n"
      ],
      "metadata": {
        "colab": {
          "base_uri": "https://localhost:8080/"
        },
        "id": "dZDRVOKSF-4L",
        "outputId": "393c66ee-3fe9-45a9-ee79-1029bf3fbe27"
      },
      "execution_count": null,
      "outputs": [
        {
          "output_type": "stream",
          "name": "stdout",
          "text": [
            "Costliest Garment:\n",
            "Garment_ID          4\n",
            "Cost              500\n",
            "Style         Stylish\n",
            "Color           Green\n",
            "Material        Linen\n",
            "Name: 3, dtype: object\n",
            "\n",
            "Most Stylish Garment:\n",
            "Garment_ID          4\n",
            "Cost              500\n",
            "Style         Stylish\n",
            "Color           Green\n",
            "Material        Linen\n",
            "Name: 3, dtype: object\n"
          ]
        }
      ]
    },
    {
      "cell_type": "code",
      "source": [
        "import pandas as pd\n",
        "from sklearn.model_selection import train_test_split\n",
        "from sklearn.preprocessing import LabelEncoder\n",
        "from sklearn.ensemble import RandomForestClassifier\n",
        "from sklearn.cluster import KMeans\n",
        "from sklearn.metrics import accuracy_score\n",
        "import matplotlib.pyplot as plt\n",
        "import seaborn as sns\n",
        "\n",
        "data = {\n",
        "    \"Garment_ID\": [1, 2, 3, 4, 5],\n",
        "    \"Cost\": [200, 450, 320, 500, 150],\n",
        "    \"Style\": [\"Casual\", \"Formal\", \"Casual\", \"Stylish\", \"Casual\"],\n",
        "    \"Color\": [\"Red\", \"Black\", \"Blue\", \"Green\", \"Yellow\"],\n",
        "    \"Material\": [\"Cotton\", \"Silk\", \"Polyester\", \"Linen\", \"Cotton\"]\n",
        "}\n",
        "\n",
        "df = pd.DataFrame(data)\n",
        "\n",
        "\n",
        "label_encoder = LabelEncoder()\n",
        "\n",
        "df['Style_Encoded'] = label_encoder.fit_transform(df['Style'])\n",
        "df['Color_Encoded'] = label_encoder.fit_transform(df['Color'])\n",
        "df['Material_Encoded'] = label_encoder.fit_transform(df['Material'])\n",
        "\n",
        "X = df[['Cost', 'Color_Encoded', 'Material_Encoded']]\n",
        "y = df['Style_Encoded']\n",
        "\n",
        "\n",
        "X_train, X_test, y_train, y_test = train_test_split(X, y, test_size=0.2, random_state=42)\n",
        "\n",
        "clf = RandomForestClassifier(n_estimators=100, random_state=42)\n",
        "clf.fit(X_train, y_train)\n",
        "\n",
        "y_pred = clf.predict(X_test)\n",
        "\n",
        "accuracy = accuracy_score(y_test, y_pred)\n",
        "print(f\"Classification Model Accuracy: {accuracy * 100:.2f}%\")\n",
        "\n",
        "kmeans = KMeans(n_clusters=3, random_state=42)\n",
        "df['Cluster'] = kmeans.fit_predict(X)\n",
        "\n",
        "plt.figure(figsize=(8, 6))\n",
        "sns.scatterplot(data=df, x='Cost', y='Color_Encoded', hue='Cluster', palette=\"viridis\", s=100)\n",
        "plt.title(\"Clustering Garments based on Cost and Color\")\n",
        "plt.xlabel('Cost')\n",
        "plt.ylabel('Encoded Color')\n",
        "plt.show()\n",
        "\n",
        "print(\"\\nClustering Result (Cluster assignments):\")\n",
        "print(df[['Garment_ID', 'Cluster']])\n"
      ],
      "metadata": {
        "colab": {
          "base_uri": "https://localhost:8080/",
          "height": 671
        },
        "id": "n0KnbJqbGL-8",
        "outputId": "24f13ddd-261f-4ce9-80f9-d3b322969c3f"
      },
      "execution_count": null,
      "outputs": [
        {
          "output_type": "stream",
          "name": "stdout",
          "text": [
            "Classification Model Accuracy: 0.00%\n"
          ]
        },
        {
          "output_type": "display_data",
          "data": {
            "text/plain": [
              "<Figure size 800x600 with 1 Axes>"
            ],
            "image/png": "[encoded data removed]"
          },
          "metadata": {}
        },
        {
          "output_type": "stream",
          "name": "stdout",
          "text": [
            "\n",
            "Clustering Result (Cluster assignments):\n",
            "   Garment_ID  Cluster\n",
            "0           1        1\n",
            "1           2        0\n",
            "2           3        2\n",
            "3           4        0\n",
            "4           5        1\n"
          ]
        }
      ]
    }
  ]
}